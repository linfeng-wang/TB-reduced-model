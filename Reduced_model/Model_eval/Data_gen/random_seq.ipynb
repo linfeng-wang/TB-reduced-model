{
 "cells": [
  {
   "cell_type": "markdown",
   "metadata": {},
   "source": [
    "Insert random sequences into the training set"
   ]
  },
  {
   "cell_type": "code",
   "execution_count": 3,
   "metadata": {},
   "outputs": [
    {
     "name": "stderr",
     "output_type": "stream",
     "text": [
      "/mnt/storageG1/lwang/miniconda3/envs/ml-g1/lib/python3.9/site-packages/tqdm/auto.py:22: TqdmWarning: IProgress not found. Please update jupyter and ipywidgets. See https://ipywidgets.readthedocs.io/en/stable/user_install.html\n",
      "  from .autonotebook import tqdm as notebook_tqdm\n"
     ]
    }
   ],
   "source": [
    "#%%\n",
    "from array import array\n",
    "from cmath import nan\n",
    "import statistics\n",
    "from tkinter.ttk import Separator\n",
    "import numpy as np\n",
    "import pandas as pd\n",
    "import os\n",
    "import torch\n",
    "import torch.nn as nn\n",
    "import torch.nn.functional as F\n",
    "import torch.optim as optim\n",
    "from torchviz import make_dot\n",
    "from torch.utils.data import Dataset, TensorDataset, DataLoader\n",
    "from torch.utils.data.dataset import random_split\n",
    "import torchvision\n",
    "import torchvision.transforms as transforms\n",
    "from itertools import chain\n",
    "from sklearn import metrics as met\n",
    "import pickle\n",
    "import icecream as ic\n",
    "import torchsummary\n",
    "import matplotlib.pyplot as plt\n",
    "import pathlib\n",
    "from sklearn.model_selection import train_test_split\n",
    "\n",
    "from sklearn.preprocessing import LabelEncoder\n",
    "from sklearn.preprocessing import OneHotEncoder\n",
    "from importlib import reload\n",
    "import util\n",
    "from torchmetrics import Accuracy\n",
    "from torch.utils.data.datapipes.datapipe import _IterDataPipeSerializationWrapper, _MapDataPipeSerializationWrapper\n",
    "from torch.utils.data import default_convert\n",
    "from tqdm import tqdm\n",
    "import time\n",
    "\n"
   ]
  },
  {
   "cell_type": "code",
   "execution_count": 4,
   "metadata": {},
   "outputs": [
    {
     "name": "stderr",
     "output_type": "stream",
     "text": [
      "/mnt/storageG1/lwang/miniconda3/envs/ml-g1/lib/python3.9/site-packages/IPython/core/interactiveshell.py:3444: DtypeWarning: Columns (12,15,16,17,19,20,47,48,49,51,53,54,56,57,58,59,62,63) have mixed types.Specify dtype option on import or set low_memory=False.\n",
      "  exec(code_obj, self.user_global_ns, self.user_ns)\n"
     ]
    }
   ],
   "source": [
    "seqs_df, res_all = util.load_data.get_main_dataset()\n",
    "N_samples = seqs_df.shape[0]\n",
    "DRUGS = util.DRUGS\n",
    "LOCI = seqs_df.columns\n",
    "assert set(DRUGS) == set(res_all.columns)\n",
    "N_drugs = len(DRUGS)\n",
    "\n",
    "# load the CRyPTIC samples as test data\n",
    "seqs_cryptic, res_cryptic = util.load_data.get_cryptic_dataset()\n",
    "# make sure the loci are in the same order as in the training data\n",
    "seqs_cryptic = seqs_cryptic[seqs_df.columns]\n",
    "\n",
    "spread_sheet = pd.read_csv('tb_data_2022_08_19.csv', header=0)"
   ]
  },
  {
   "cell_type": "code",
   "execution_count": 5,
   "metadata": {},
   "outputs": [],
   "source": [
    "from random import choice\n",
    "def rand_seq_gen(length):\n",
    "\n",
    "   DNA=\"\"\n",
    "   \n",
    "   for count in range(length):\n",
    "      DNA+=choice(\"CGTA\")\n",
    "   return DNA"
   ]
  },
  {
   "cell_type": "code",
   "execution_count": 6,
   "metadata": {},
   "outputs": [
    {
     "name": "stderr",
     "output_type": "stream",
     "text": [
      "100%|██████████| 1151/1151 [01:20<00:00, 14.24it/s]\n"
     ]
    }
   ],
   "source": [
    "#generating random sample in the training dataset\n",
    "from random import seed\n",
    "from random import randint\n",
    "from tqdm import tqdm\n",
    "\n",
    "rand_size = int(23039*0.05)\n",
    "random_df = pd.DataFrame(columns=[seqs_df.columns])\n",
    "rand_res_df = pd.DataFrame(0, index=np.arange(rand_size), columns=[res_all.columns])\n",
    "\n",
    "#get mean length of each loci\n",
    "loci_len = {}\n",
    "for x in seqs_df.columns:\n",
    "    loci_len[x] = seqs_df[x].str.split(\"\").str.len().mean().round()\n",
    "\n",
    "#create instances with random sequences\n",
    "seqs_df_rand, res_all_rand = seqs_df, res_all\n",
    "target_list = [0, 0, 0, 0, 0, 0, 0, 0, 0, 0, 0, 0, 0] #dr to be added in corresponding to rand seq\n",
    "\n",
    "rand_size = int(len(seqs_df)*0.05) #amount of rand seq\n",
    "\n",
    "seed(42)\n",
    "# generate some integers\n",
    "for _ in tqdm(range(rand_size)):\n",
    "\tinsert_pos = randint(0, len(seqs_df))\n",
    "\tlist_ = [] #creating rand seq\n",
    "\tfor k, v in loci_len.items():\n",
    "\t\tlist_.append(rand_seq_gen(int(v)))\n",
    "\n",
    "\tseqs_df_rand = pd.DataFrame(np.insert(seqs_df_rand.values, insert_pos, list_, axis=0)) \n",
    "\tres_all_rand = pd.DataFrame(np.insert(res_all_rand.values, insert_pos, target_list, axis=0)) \n",
    "\t# for x in range(rand_size):\n",
    "\t# \tlist_ = []\n",
    "\t# \tfor k, v in loci_len.items():\n",
    "\t# \t\tlist_.append(rand_seq_gen(int(v)))\n",
    "\t# \trandom_df = random_df.append(pd.DataFrame([list_], columns=[seqs_df.columns]), ignore_index=True)\n",
    "seqs_df_rand.columns = seqs_df.columns\n",
    "res_all_rand.columns = res_all.columns\n"
   ]
  },
  {
   "cell_type": "code",
   "execution_count": 7,
   "metadata": {},
   "outputs": [],
   "source": [
    "from pathlib import Path  \n",
    "filepath = Path('/mnt/storageG1/lwang/TB-AMR-CNN/Julian/data/rand/seq_5percent_rand.csv')  \n",
    "filepath.parent.mkdir(parents=True, exist_ok=True)  \n",
    "seqs_df_rand.to_csv(filepath, index=False, index_label=False)\n",
    "\n",
    "filepath = Path('/mnt/storageG1/lwang/TB-AMR-CNN/Julian/data/rand/res_5percent_rand.csv')  \n",
    "filepath.parent.mkdir(parents=True, exist_ok=True)\n",
    "res_all_rand.to_csv(filepath, index=False, index_label=False)"
   ]
  },
  {
   "cell_type": "code",
   "execution_count": null,
   "metadata": {},
   "outputs": [],
   "source": []
  }
 ],
 "metadata": {
  "kernelspec": {
   "display_name": "Python 3.9.7 ('ml-g1': conda)",
   "language": "python",
   "name": "python3"
  },
  "language_info": {
   "codemirror_mode": {
    "name": "ipython",
    "version": 3
   },
   "file_extension": ".py",
   "mimetype": "text/x-python",
   "name": "python",
   "nbconvert_exporter": "python",
   "pygments_lexer": "ipython3",
   "version": "3.9.7"
  },
  "orig_nbformat": 4,
  "vscode": {
   "interpreter": {
    "hash": "7ba6afd3d3238835e337308d3d605fc188fa2c52574e1e134aed6d9e5780abf1"
   }
  }
 },
 "nbformat": 4,
 "nbformat_minor": 2
}
